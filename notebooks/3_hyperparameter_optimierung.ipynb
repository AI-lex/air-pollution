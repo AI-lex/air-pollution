{
 "cells": [
  {
   "cell_type": "markdown",
   "metadata": {},
   "source": [
    "# Hyperparameter Optimierung mit Talos"
   ]
  },
  {
   "cell_type": "markdown",
   "metadata": {},
   "source": [
    "## Vorgehensweise\n",
    "\n",
    "#### 1. Datenvorbereitung  \n",
    "    1.1 Daten laden  \n",
    "    1.2 Aufteilung in Trainings- und Testdaten  \n",
    "    1.3 Resampling-Methoden  \n",
    "    1.4 Skalierung der Eingabewerte  \n",
    "\n",
    "#### 2. Aufbau der Netzstruktur und der Parametrisierung  \n",
    "    2.1 Hyperparameter-Dictionary erstellen  \n",
    "    2.2 Netzstruktur erstellen  \n",
    "    2.3 Parametervariablen einbauen\n",
    "      \n",
    "#### 3. Durchführung des Scans  \n",
    "    3.1 Zielvariable vorbereiten  \n",
    "    3.2 Scan durchführen  \n",
    "    \n",
    "#### 4. Auswertung der Ergebnisse  \n",
    "    4.1 Überblick über die Ergebnisse verschaffen  \n",
    "    4.2 Visualisierungen nutzen  \n",
    "    4.3 Bestes Modell speichern\n",
    "    4.4 Modell manuell valuieren\n"
   ]
  },
  {
   "cell_type": "markdown",
   "metadata": {},
   "source": [
    "## 1. Datenvorbereitung\n",
    "\n",
    "### 1.1 Daten laden"
   ]
  },
  {
   "cell_type": "code",
   "execution_count": 1,
   "metadata": {},
   "outputs": [],
   "source": [
    "import numpy as np\n",
    "import pandas as pd\n",
    "# gesamtes Feature-Set\n",
    "data_vec = pd.read_pickle(\"C:/Users/astapper/Documents/KI_MeetUp/Daten/gesamtes_feature_set\")\n",
    "\n",
    "# reduziertes Feature-Set\n",
    "#data_vec = pd.read_pickle(\"C:/Users/astapper/Documents/KI_MeetUp/Daten/reduziertes_feature_set\")\n",
    "\n",
    "#data_vec = pd.read_csv(\".\\\\Daten\\\\training_set.csv\", sep=';', encoding=\"ISO-8859-1\")"
   ]
  },
  {
   "cell_type": "code",
   "execution_count": 2,
   "metadata": {},
   "outputs": [
    {
     "name": "stderr",
     "output_type": "stream",
     "text": [
      "Using TensorFlow backend.\n"
     ]
    }
   ],
   "source": [
    "import talos as ta\n",
    "%matplotlib inline"
   ]
  },
  {
   "cell_type": "markdown",
   "metadata": {},
   "source": [
    "### 1.2 Aufteilung in Trainings- und Testset (70%/30%)"
   ]
  },
  {
   "cell_type": "code",
   "execution_count": 3,
   "metadata": {},
   "outputs": [
    {
     "name": "stdout",
     "output_type": "stream",
     "text": [
      "Daten im Trainingsset: 4146\n",
      "Daten im Testset: 1777\n"
     ]
    }
   ],
   "source": [
    "from sklearn.model_selection import train_test_split\n",
    "\n",
    "train_set, test_set = train_test_split(data_vec, test_size=0.3, random_state=1234)\n",
    "\n",
    "\n",
    "print(\"Daten im Trainingsset: \" + str(len(train_set)))\n",
    "print(\"Daten im Testset: \" + str(len(test_set)))\n"
   ]
  },
  {
   "cell_type": "code",
   "execution_count": 4,
   "metadata": {},
   "outputs": [
    {
     "name": "stderr",
     "output_type": "stream",
     "text": [
      "C:\\Users\\astapper\\AppData\\Local\\Continuum\\anaconda3\\envs\\hyper_test\\lib\\site-packages\\IPython\\core\\interactiveshell.py:3296: FutureWarning: specifying 'categories' or 'ordered' in .astype() is deprecated; pass a CategoricalDtype instead\n",
      "  exec(code_obj, self.user_global_ns, self.user_ns)\n"
     ]
    }
   ],
   "source": [
    "x_train = train_set.drop(columns = [\"exceed_limit_40\"])\n",
    "y_train = train_set[\"exceed_limit_40\"].astype('category', ordered = True)\n",
    "\n",
    "x_test = test_set.drop(columns = [\"exceed_limit_40\"])\n",
    "y_test = test_set[\"exceed_limit_40\"].astype('category', ordered = True)"
   ]
  },
  {
   "cell_type": "markdown",
   "metadata": {},
   "source": [
    "### 1.3 Resampling \n",
    "\n",
    "#### Oversampling via SMOTE"
   ]
  },
  {
   "cell_type": "code",
   "execution_count": 5,
   "metadata": {},
   "outputs": [
    {
     "name": "stderr",
     "output_type": "stream",
     "text": [
      "C:\\Users\\astapper\\AppData\\Local\\Continuum\\anaconda3\\envs\\hyper_test\\lib\\site-packages\\sklearn\\externals\\six.py:31: DeprecationWarning: The module is deprecated in version 0.21 and will be removed in version 0.23 since we've dropped support for Python 2.7. Please rely on the official version of six (https://pypi.org/project/six/).\n",
      "  \"(https://pypi.org/project/six/).\", DeprecationWarning)\n"
     ]
    }
   ],
   "source": [
    "from imblearn.over_sampling import SMOTE"
   ]
  },
  {
   "cell_type": "code",
   "execution_count": 6,
   "metadata": {},
   "outputs": [],
   "source": [
    "# original x_train und y_train speichern\n",
    "x_train_alt = x_train\n",
    "y_train_alt = y_train"
   ]
  },
  {
   "cell_type": "code",
   "execution_count": 7,
   "metadata": {},
   "outputs": [],
   "source": [
    "sm = SMOTE(random_state=123)\n",
    "x_train, y_train = sm.fit_sample(x_train_alt, y_train_alt)"
   ]
  },
  {
   "cell_type": "code",
   "execution_count": 8,
   "metadata": {},
   "outputs": [
    {
     "name": "stdout",
     "output_type": "stream",
     "text": [
      "Before OverSampling, counts of label '1': 249\n",
      "Before OverSampling, counts of label '0': 3897 \n",
      "\n",
      "After OverSampling, the shape of train_X: (7794, 44)\n",
      "After OverSampling, the shape of train_y: (7794,) \n",
      "\n",
      "After OverSampling, counts of label '1': 3897\n",
      "After OverSampling, counts of label '0': 3897\n"
     ]
    }
   ],
   "source": [
    "print(\"Before OverSampling, counts of label '1': {}\".format(sum(y_train_alt==1)))\n",
    "print(\"Before OverSampling, counts of label '0': {} \\n\".format(sum(y_train_alt==0)))\n",
    "\n",
    "print('After OverSampling, the shape of train_X: {}'.format(x_train.shape))\n",
    "print('After OverSampling, the shape of train_y: {} \\n'.format(y_train.shape))\n",
    "\n",
    "print(\"After OverSampling, counts of label '1': {}\".format(sum(y_train==1)))\n",
    "print(\"After OverSampling, counts of label '0': {}\".format(sum(y_train==0)))"
   ]
  },
  {
   "cell_type": "markdown",
   "metadata": {},
   "source": [
    "### 1.4 Skalierung der Eingabewerte"
   ]
  },
  {
   "cell_type": "code",
   "execution_count": 9,
   "metadata": {},
   "outputs": [],
   "source": [
    "from sklearn.preprocessing import MinMaxScaler, StandardScaler \n",
    "\n",
    "scaler = MinMaxScaler()\n",
    "#scaler = StandardScaler()\n",
    "\n",
    "x_train_scaled = scaler.fit_transform(x_train)\n",
    "x_test_scaled = scaler.fit_transform(x_test)"
   ]
  },
  {
   "cell_type": "markdown",
   "metadata": {},
   "source": [
    "## 2. Aufbau der Netzstruktur und der Parametrisierung"
   ]
  },
  {
   "cell_type": "markdown",
   "metadata": {},
   "source": [
    "### 2.1 HyperParaDic erstellen"
   ]
  },
  {
   "cell_type": "code",
   "execution_count": 10,
   "metadata": {},
   "outputs": [],
   "source": [
    "from keras.optimizers import Adam, Nadam\n",
    "from keras.layers import ReLU, LeakyReLU\n",
    "from keras.losses import binary_crossentropy, logcosh\n",
    "\n",
    "p = {\n",
    "    'optimizer': ['Adam', 'Nadam'],\n",
    "    'activation': ['NN.add(ReLU())', 'NN.add(LeakyReLU(0.3))'],\n",
    "    'loss': ['binary_crossentropy'],\n",
    "    'epochs': [100],\n",
    "    'batch_size': [32],\n",
    "    'dropout': ['NN.add(Dropout(0))', 'NN.add(Dropout(0.1))', 'NN.add(Dropout(0.25))'],\n",
    "\n",
    "}"
   ]
  },
  {
   "cell_type": "markdown",
   "metadata": {},
   "source": [
    "### 2.2 + 2.3 Netzstruktur erstellen und Parametervariablen einbauen"
   ]
  },
  {
   "cell_type": "code",
   "execution_count": 11,
   "metadata": {},
   "outputs": [],
   "source": [
    "import tensorflow as tf\n",
    "import keras\n",
    "#import keras_metrics\n",
    "from keras.models import Sequential\n",
    "from keras.layers import Dense, Dropout, BatchNormalization, LeakyReLU, ReLU, AlphaDropout\n",
    "from keras import regularizers\n",
    "\n",
    "def nn_model(x_train, y_train, x_val, y_val, params):\n",
    "\n",
    "    ## Rohform des Modells\n",
    "    \n",
    "    NN = Sequential()\n",
    "\n",
    "\n",
    "    \n",
    "    \n",
    "    ## Eingabeschicht \n",
    "    NN.add(Dense(64, input_dim=44, kernel_initializer=\"random_uniform\"))\n",
    "    params['activation']\n",
    "    params['dropout']\n",
    "    #NN.add(BatchNormalization())\n",
    "\n",
    "    \n",
    "    ## Zwischenschichten\n",
    "    NN.add(Dense(128,kernel_initializer=\"normal\"))\n",
    "    params['activation']\n",
    "    params['dropout']\n",
    "    #NN.add(BatchNormalization())\n",
    "\n",
    "    NN.add(Dense(256,kernel_initializer=\"normal\"))\n",
    "    params['activation']\n",
    "    params['dropout']\n",
    "    #NN.add(BatchNormalization())\n",
    "\n",
    "    NN.add(Dense(128,kernel_initializer=\"normal\"))\n",
    "    params['activation']\n",
    "    params['dropout']\n",
    "    #NN.add(BatchNormalization())\n",
    "\n",
    "    NN.add(Dense(64,kernel_initializer=\"normal\"))\n",
    "    params['activation']\n",
    "    params['dropout']\n",
    "    #NN.add(BatchNormalization())\n",
    "\n",
    "    NN.add(Dense(32,kernel_initializer=\"normal\"))\n",
    "    params['activation']\n",
    "    params['dropout']\n",
    "    #NN.add(BatchNormalization())\n",
    "\n",
    "    NN.add(Dense(16,kernel_initializer=\"normal\"))\n",
    "    params['activation']\n",
    "\n",
    "    \n",
    "    ## Ausgabeschicht\n",
    "    NN.add(Dense(1,kernel_initializer=\"random_uniform\", activation=\"sigmoid\"))\n",
    "\n",
    "    \n",
    "    ## Modell bauen\n",
    "    NN.compile(loss= params['loss'],\n",
    "           optimizer= params['optimizer'], \n",
    "           metrics= ['accuracy']) \n",
    "    \n",
    "    ## \n",
    "    out = NN.fit(x_train, y_train,\n",
    "                    batch_size=params['batch_size'],\n",
    "                    epochs=params['epochs'],\n",
    "                    verbose=0,\n",
    "                    validation_data=[x_val, y_val])\n",
    "    \n",
    "    return out, NN\n"
   ]
  },
  {
   "cell_type": "markdown",
   "metadata": {},
   "source": [
    "## 3. Scan durchführen"
   ]
  },
  {
   "cell_type": "markdown",
   "metadata": {},
   "source": [
    "### 3.1 Zielvariable vorbereiten"
   ]
  },
  {
   "cell_type": "code",
   "execution_count": 12,
   "metadata": {},
   "outputs": [],
   "source": [
    "y_train_rav = y_train.ravel()"
   ]
  },
  {
   "cell_type": "code",
   "execution_count": 13,
   "metadata": {},
   "outputs": [
    {
     "data": {
      "text/plain": [
       "array([0, 0, 0, ..., 1, 1, 1], dtype=int64)"
      ]
     },
     "execution_count": 13,
     "metadata": {},
     "output_type": "execute_result"
    }
   ],
   "source": [
    "y_train_rav"
   ]
  },
  {
   "cell_type": "markdown",
   "metadata": {},
   "source": [
    "### 3.2 Scan durchführen"
   ]
  },
  {
   "cell_type": "code",
   "execution_count": 14,
   "metadata": {},
   "outputs": [
    {
     "name": "stderr",
     "output_type": "stream",
     "text": [
      "\r",
      "  0%|          | 0/12 [00:00<?, ?it/s]"
     ]
    },
    {
     "name": "stdout",
     "output_type": "stream",
     "text": [
      "{'activation': 'NN.add(ReLU())', 'batch_size': 32, 'dropout': 'NN.add(Dropout(0))', 'epochs': 100, 'loss': 'binary_crossentropy', 'optimizer': 'Adam'}\n",
      "WARNING:tensorflow:From C:\\Users\\astapper\\AppData\\Local\\Continuum\\anaconda3\\envs\\hyper_test\\lib\\site-packages\\tensorflow\\python\\framework\\op_def_library.py:263: colocate_with (from tensorflow.python.framework.ops) is deprecated and will be removed in a future version.\n",
      "Instructions for updating:\n",
      "Colocations handled automatically by placer.\n",
      "WARNING:tensorflow:From C:\\Users\\astapper\\AppData\\Local\\Continuum\\anaconda3\\envs\\hyper_test\\lib\\site-packages\\tensorflow\\python\\ops\\math_ops.py:3066: to_int32 (from tensorflow.python.ops.math_ops) is deprecated and will be removed in a future version.\n",
      "Instructions for updating:\n",
      "Use tf.cast instead.\n"
     ]
    },
    {
     "name": "stderr",
     "output_type": "stream",
     "text": [
      "\r",
      "  8%|▊         | 1/12 [00:53<09:49, 53.60s/it]"
     ]
    },
    {
     "name": "stdout",
     "output_type": "stream",
     "text": [
      "{'activation': 'NN.add(ReLU())', 'batch_size': 32, 'dropout': 'NN.add(Dropout(0))', 'epochs': 100, 'loss': 'binary_crossentropy', 'optimizer': 'Nadam'}\n"
     ]
    },
    {
     "name": "stderr",
     "output_type": "stream",
     "text": [
      "\r",
      " 17%|█▋        | 2/12 [01:49<09:02, 54.28s/it]"
     ]
    },
    {
     "name": "stdout",
     "output_type": "stream",
     "text": [
      "{'activation': 'NN.add(ReLU())', 'batch_size': 32, 'dropout': 'NN.add(Dropout(0.1))', 'epochs': 100, 'loss': 'binary_crossentropy', 'optimizer': 'Adam'}\n"
     ]
    },
    {
     "name": "stderr",
     "output_type": "stream",
     "text": [
      "\r",
      " 25%|██▌       | 3/12 [02:44<08:09, 54.37s/it]"
     ]
    },
    {
     "name": "stdout",
     "output_type": "stream",
     "text": [
      "{'activation': 'NN.add(ReLU())', 'batch_size': 32, 'dropout': 'NN.add(Dropout(0.1))', 'epochs': 100, 'loss': 'binary_crossentropy', 'optimizer': 'Nadam'}\n"
     ]
    },
    {
     "name": "stderr",
     "output_type": "stream",
     "text": [
      "\r",
      " 33%|███▎      | 4/12 [03:43<07:26, 55.75s/it]"
     ]
    },
    {
     "name": "stdout",
     "output_type": "stream",
     "text": [
      "{'activation': 'NN.add(ReLU())', 'batch_size': 32, 'dropout': 'NN.add(Dropout(0.25))', 'epochs': 100, 'loss': 'binary_crossentropy', 'optimizer': 'Adam'}\n"
     ]
    },
    {
     "name": "stderr",
     "output_type": "stream",
     "text": [
      "\r",
      " 42%|████▏     | 5/12 [04:38<06:30, 55.80s/it]"
     ]
    },
    {
     "name": "stdout",
     "output_type": "stream",
     "text": [
      "{'activation': 'NN.add(ReLU())', 'batch_size': 32, 'dropout': 'NN.add(Dropout(0.25))', 'epochs': 100, 'loss': 'binary_crossentropy', 'optimizer': 'Nadam'}\n"
     ]
    },
    {
     "name": "stderr",
     "output_type": "stream",
     "text": [
      "\r",
      " 50%|█████     | 6/12 [05:46<05:55, 59.22s/it]"
     ]
    },
    {
     "name": "stdout",
     "output_type": "stream",
     "text": [
      "{'activation': 'NN.add(LeakyReLU(0.3))', 'batch_size': 32, 'dropout': 'NN.add(Dropout(0))', 'epochs': 100, 'loss': 'binary_crossentropy', 'optimizer': 'Adam'}\n"
     ]
    },
    {
     "name": "stderr",
     "output_type": "stream",
     "text": [
      "\r",
      " 58%|█████▊    | 7/12 [06:41<04:50, 58.15s/it]"
     ]
    },
    {
     "name": "stdout",
     "output_type": "stream",
     "text": [
      "{'activation': 'NN.add(LeakyReLU(0.3))', 'batch_size': 32, 'dropout': 'NN.add(Dropout(0))', 'epochs': 100, 'loss': 'binary_crossentropy', 'optimizer': 'Nadam'}\n"
     ]
    },
    {
     "name": "stderr",
     "output_type": "stream",
     "text": [
      "\r",
      " 67%|██████▋   | 8/12 [07:39<03:52, 58.08s/it]"
     ]
    },
    {
     "name": "stdout",
     "output_type": "stream",
     "text": [
      "{'activation': 'NN.add(LeakyReLU(0.3))', 'batch_size': 32, 'dropout': 'NN.add(Dropout(0.1))', 'epochs': 100, 'loss': 'binary_crossentropy', 'optimizer': 'Adam'}\n"
     ]
    },
    {
     "name": "stderr",
     "output_type": "stream",
     "text": [
      "\r",
      " 75%|███████▌  | 9/12 [08:32<02:49, 56.54s/it]"
     ]
    },
    {
     "name": "stdout",
     "output_type": "stream",
     "text": [
      "{'activation': 'NN.add(LeakyReLU(0.3))', 'batch_size': 32, 'dropout': 'NN.add(Dropout(0.1))', 'epochs': 100, 'loss': 'binary_crossentropy', 'optimizer': 'Nadam'}\n"
     ]
    },
    {
     "name": "stderr",
     "output_type": "stream",
     "text": [
      "\r",
      " 83%|████████▎ | 10/12 [09:27<01:52, 56.15s/it]"
     ]
    },
    {
     "name": "stdout",
     "output_type": "stream",
     "text": [
      "{'activation': 'NN.add(LeakyReLU(0.3))', 'batch_size': 32, 'dropout': 'NN.add(Dropout(0.25))', 'epochs': 100, 'loss': 'binary_crossentropy', 'optimizer': 'Adam'}\n"
     ]
    },
    {
     "name": "stderr",
     "output_type": "stream",
     "text": [
      "\r",
      " 92%|█████████▏| 11/12 [10:21<00:55, 55.46s/it]"
     ]
    },
    {
     "name": "stdout",
     "output_type": "stream",
     "text": [
      "{'activation': 'NN.add(LeakyReLU(0.3))', 'batch_size': 32, 'dropout': 'NN.add(Dropout(0.25))', 'epochs': 100, 'loss': 'binary_crossentropy', 'optimizer': 'Nadam'}\n"
     ]
    },
    {
     "name": "stderr",
     "output_type": "stream",
     "text": [
      "100%|██████████| 12/12 [11:19<00:00, 56.00s/it]\n"
     ]
    }
   ],
   "source": [
    "h = ta.Scan(x= x_train_scaled, y= y_train_rav, model=nn_model, params=p, val_split=0.2, print_params=True)"
   ]
  },
  {
   "cell_type": "markdown",
   "metadata": {},
   "source": [
    "## 4. Auswertung der Ergebnisse"
   ]
  },
  {
   "cell_type": "markdown",
   "metadata": {},
   "source": [
    "### 4.1 Überblick verschaffen"
   ]
  },
  {
   "cell_type": "code",
   "execution_count": 15,
   "metadata": {},
   "outputs": [
    {
     "data": {
      "text/html": [
       "<div>\n",
       "<style scoped>\n",
       "    .dataframe tbody tr th:only-of-type {\n",
       "        vertical-align: middle;\n",
       "    }\n",
       "\n",
       "    .dataframe tbody tr th {\n",
       "        vertical-align: top;\n",
       "    }\n",
       "\n",
       "    .dataframe thead th {\n",
       "        text-align: right;\n",
       "    }\n",
       "</style>\n",
       "<table border=\"1\" class=\"dataframe\">\n",
       "  <thead>\n",
       "    <tr style=\"text-align: right;\">\n",
       "      <th></th>\n",
       "      <th>round_epochs</th>\n",
       "      <th>val_loss</th>\n",
       "      <th>val_acc</th>\n",
       "      <th>loss</th>\n",
       "      <th>acc</th>\n",
       "      <th>activation</th>\n",
       "      <th>batch_size</th>\n",
       "      <th>dropout</th>\n",
       "      <th>epochs</th>\n",
       "      <th>loss</th>\n",
       "      <th>optimizer</th>\n",
       "    </tr>\n",
       "  </thead>\n",
       "  <tbody>\n",
       "    <tr>\n",
       "      <th>0</th>\n",
       "      <td>100</td>\n",
       "      <td>0.337937</td>\n",
       "      <td>0.855677</td>\n",
       "      <td>0.310773</td>\n",
       "      <td>0.872654</td>\n",
       "      <td>NN.add(ReLU())</td>\n",
       "      <td>32</td>\n",
       "      <td>NN.add(Dropout(0))</td>\n",
       "      <td>100</td>\n",
       "      <td>binary_crossentropy</td>\n",
       "      <td>Adam</td>\n",
       "    </tr>\n",
       "    <tr>\n",
       "      <th>1</th>\n",
       "      <td>100</td>\n",
       "      <td>0.339980</td>\n",
       "      <td>0.855035</td>\n",
       "      <td>0.312887</td>\n",
       "      <td>0.872815</td>\n",
       "      <td>NN.add(ReLU())</td>\n",
       "      <td>32</td>\n",
       "      <td>NN.add(Dropout(0))</td>\n",
       "      <td>100</td>\n",
       "      <td>binary_crossentropy</td>\n",
       "      <td>Nadam</td>\n",
       "    </tr>\n",
       "    <tr>\n",
       "      <th>2</th>\n",
       "      <td>100</td>\n",
       "      <td>0.342031</td>\n",
       "      <td>0.860808</td>\n",
       "      <td>0.309690</td>\n",
       "      <td>0.874419</td>\n",
       "      <td>NN.add(ReLU())</td>\n",
       "      <td>32</td>\n",
       "      <td>NN.add(Dropout(0.1))</td>\n",
       "      <td>100</td>\n",
       "      <td>binary_crossentropy</td>\n",
       "      <td>Adam</td>\n",
       "    </tr>\n",
       "    <tr>\n",
       "      <th>3</th>\n",
       "      <td>100</td>\n",
       "      <td>0.345455</td>\n",
       "      <td>0.861450</td>\n",
       "      <td>0.310933</td>\n",
       "      <td>0.872494</td>\n",
       "      <td>NN.add(ReLU())</td>\n",
       "      <td>32</td>\n",
       "      <td>NN.add(Dropout(0.1))</td>\n",
       "      <td>100</td>\n",
       "      <td>binary_crossentropy</td>\n",
       "      <td>Nadam</td>\n",
       "    </tr>\n",
       "    <tr>\n",
       "      <th>4</th>\n",
       "      <td>100</td>\n",
       "      <td>0.334922</td>\n",
       "      <td>0.862091</td>\n",
       "      <td>0.312365</td>\n",
       "      <td>0.872173</td>\n",
       "      <td>NN.add(ReLU())</td>\n",
       "      <td>32</td>\n",
       "      <td>NN.add(Dropout(0.25))</td>\n",
       "      <td>100</td>\n",
       "      <td>binary_crossentropy</td>\n",
       "      <td>Adam</td>\n",
       "    </tr>\n",
       "    <tr>\n",
       "      <th>5</th>\n",
       "      <td>100</td>\n",
       "      <td>0.335617</td>\n",
       "      <td>0.857601</td>\n",
       "      <td>0.310600</td>\n",
       "      <td>0.874900</td>\n",
       "      <td>NN.add(ReLU())</td>\n",
       "      <td>32</td>\n",
       "      <td>NN.add(Dropout(0.25))</td>\n",
       "      <td>100</td>\n",
       "      <td>binary_crossentropy</td>\n",
       "      <td>Nadam</td>\n",
       "    </tr>\n",
       "    <tr>\n",
       "      <th>6</th>\n",
       "      <td>100</td>\n",
       "      <td>0.334499</td>\n",
       "      <td>0.864657</td>\n",
       "      <td>0.310628</td>\n",
       "      <td>0.873456</td>\n",
       "      <td>NN.add(LeakyReLU(0.3))</td>\n",
       "      <td>32</td>\n",
       "      <td>NN.add(Dropout(0))</td>\n",
       "      <td>100</td>\n",
       "      <td>binary_crossentropy</td>\n",
       "      <td>Adam</td>\n",
       "    </tr>\n",
       "    <tr>\n",
       "      <th>7</th>\n",
       "      <td>100</td>\n",
       "      <td>0.342201</td>\n",
       "      <td>0.863374</td>\n",
       "      <td>0.312075</td>\n",
       "      <td>0.874098</td>\n",
       "      <td>NN.add(LeakyReLU(0.3))</td>\n",
       "      <td>32</td>\n",
       "      <td>NN.add(Dropout(0))</td>\n",
       "      <td>100</td>\n",
       "      <td>binary_crossentropy</td>\n",
       "      <td>Nadam</td>\n",
       "    </tr>\n",
       "    <tr>\n",
       "      <th>8</th>\n",
       "      <td>100</td>\n",
       "      <td>0.336584</td>\n",
       "      <td>0.862091</td>\n",
       "      <td>0.309810</td>\n",
       "      <td>0.872975</td>\n",
       "      <td>NN.add(LeakyReLU(0.3))</td>\n",
       "      <td>32</td>\n",
       "      <td>NN.add(Dropout(0.1))</td>\n",
       "      <td>100</td>\n",
       "      <td>binary_crossentropy</td>\n",
       "      <td>Adam</td>\n",
       "    </tr>\n",
       "    <tr>\n",
       "      <th>9</th>\n",
       "      <td>100</td>\n",
       "      <td>0.349241</td>\n",
       "      <td>0.861450</td>\n",
       "      <td>0.311128</td>\n",
       "      <td>0.870569</td>\n",
       "      <td>NN.add(LeakyReLU(0.3))</td>\n",
       "      <td>32</td>\n",
       "      <td>NN.add(Dropout(0.1))</td>\n",
       "      <td>100</td>\n",
       "      <td>binary_crossentropy</td>\n",
       "      <td>Nadam</td>\n",
       "    </tr>\n",
       "    <tr>\n",
       "      <th>10</th>\n",
       "      <td>100</td>\n",
       "      <td>0.338928</td>\n",
       "      <td>0.858884</td>\n",
       "      <td>0.310485</td>\n",
       "      <td>0.874098</td>\n",
       "      <td>NN.add(LeakyReLU(0.3))</td>\n",
       "      <td>32</td>\n",
       "      <td>NN.add(Dropout(0.25))</td>\n",
       "      <td>100</td>\n",
       "      <td>binary_crossentropy</td>\n",
       "      <td>Adam</td>\n",
       "    </tr>\n",
       "    <tr>\n",
       "      <th>11</th>\n",
       "      <td>100</td>\n",
       "      <td>0.337171</td>\n",
       "      <td>0.864657</td>\n",
       "      <td>0.310967</td>\n",
       "      <td>0.874900</td>\n",
       "      <td>NN.add(LeakyReLU(0.3))</td>\n",
       "      <td>32</td>\n",
       "      <td>NN.add(Dropout(0.25))</td>\n",
       "      <td>100</td>\n",
       "      <td>binary_crossentropy</td>\n",
       "      <td>Nadam</td>\n",
       "    </tr>\n",
       "  </tbody>\n",
       "</table>\n",
       "</div>"
      ],
      "text/plain": [
       "    round_epochs  val_loss   val_acc      loss       acc  \\\n",
       "0            100  0.337937  0.855677  0.310773  0.872654   \n",
       "1            100  0.339980  0.855035  0.312887  0.872815   \n",
       "2            100  0.342031  0.860808  0.309690  0.874419   \n",
       "3            100  0.345455  0.861450  0.310933  0.872494   \n",
       "4            100  0.334922  0.862091  0.312365  0.872173   \n",
       "5            100  0.335617  0.857601  0.310600  0.874900   \n",
       "6            100  0.334499  0.864657  0.310628  0.873456   \n",
       "7            100  0.342201  0.863374  0.312075  0.874098   \n",
       "8            100  0.336584  0.862091  0.309810  0.872975   \n",
       "9            100  0.349241  0.861450  0.311128  0.870569   \n",
       "10           100  0.338928  0.858884  0.310485  0.874098   \n",
       "11           100  0.337171  0.864657  0.310967  0.874900   \n",
       "\n",
       "                activation  batch_size                dropout  epochs  \\\n",
       "0           NN.add(ReLU())          32     NN.add(Dropout(0))     100   \n",
       "1           NN.add(ReLU())          32     NN.add(Dropout(0))     100   \n",
       "2           NN.add(ReLU())          32   NN.add(Dropout(0.1))     100   \n",
       "3           NN.add(ReLU())          32   NN.add(Dropout(0.1))     100   \n",
       "4           NN.add(ReLU())          32  NN.add(Dropout(0.25))     100   \n",
       "5           NN.add(ReLU())          32  NN.add(Dropout(0.25))     100   \n",
       "6   NN.add(LeakyReLU(0.3))          32     NN.add(Dropout(0))     100   \n",
       "7   NN.add(LeakyReLU(0.3))          32     NN.add(Dropout(0))     100   \n",
       "8   NN.add(LeakyReLU(0.3))          32   NN.add(Dropout(0.1))     100   \n",
       "9   NN.add(LeakyReLU(0.3))          32   NN.add(Dropout(0.1))     100   \n",
       "10  NN.add(LeakyReLU(0.3))          32  NN.add(Dropout(0.25))     100   \n",
       "11  NN.add(LeakyReLU(0.3))          32  NN.add(Dropout(0.25))     100   \n",
       "\n",
       "                   loss optimizer  \n",
       "0   binary_crossentropy      Adam  \n",
       "1   binary_crossentropy     Nadam  \n",
       "2   binary_crossentropy      Adam  \n",
       "3   binary_crossentropy     Nadam  \n",
       "4   binary_crossentropy      Adam  \n",
       "5   binary_crossentropy     Nadam  \n",
       "6   binary_crossentropy      Adam  \n",
       "7   binary_crossentropy     Nadam  \n",
       "8   binary_crossentropy      Adam  \n",
       "9   binary_crossentropy     Nadam  \n",
       "10  binary_crossentropy      Adam  \n",
       "11  binary_crossentropy     Nadam  "
      ]
     },
     "execution_count": 15,
     "metadata": {},
     "output_type": "execute_result"
    }
   ],
   "source": [
    "h.data.head(35)"
   ]
  },
  {
   "cell_type": "code",
   "execution_count": 16,
   "metadata": {},
   "outputs": [
    {
     "data": {
      "text/plain": [
       "experiment_name            052919081156\n",
       "random_method          uniform_mersenne\n",
       "reduction_method                   None\n",
       "reduction_interval                   50\n",
       "reduction_window                     20\n",
       "reduction_threshold                 0.2\n",
       "reduction_metric                val_acc\n",
       "complete_time            05/29/19/08:23\n",
       "x_shape                      (7794, 44)\n",
       "y_shape                         (7794,)\n",
       "dtype: object"
      ]
     },
     "execution_count": 16,
     "metadata": {},
     "output_type": "execute_result"
    }
   ],
   "source": [
    "h.details"
   ]
  },
  {
   "cell_type": "code",
   "execution_count": 17,
   "metadata": {},
   "outputs": [],
   "source": [
    "r = ta.Reporting(h)"
   ]
  },
  {
   "cell_type": "code",
   "execution_count": 18,
   "metadata": {},
   "outputs": [
    {
     "data": {
      "text/plain": [
       "0.8646568314550472"
      ]
     },
     "execution_count": 18,
     "metadata": {},
     "output_type": "execute_result"
    }
   ],
   "source": [
    "r.high('val_acc')"
   ]
  },
  {
   "cell_type": "code",
   "execution_count": 19,
   "metadata": {},
   "outputs": [
    {
     "data": {
      "text/plain": [
       "6"
      ]
     },
     "execution_count": 19,
     "metadata": {},
     "output_type": "execute_result"
    }
   ],
   "source": [
    "r.rounds2high()"
   ]
  },
  {
   "cell_type": "code",
   "execution_count": 20,
   "metadata": {},
   "outputs": [
    {
     "data": {
      "text/plain": [
       "0.8550352791779465"
      ]
     },
     "execution_count": 20,
     "metadata": {},
     "output_type": "execute_result"
    }
   ],
   "source": [
    "r.low()"
   ]
  },
  {
   "cell_type": "markdown",
   "metadata": {},
   "source": [
    "### 4.2 Visualisierungen nutzen"
   ]
  },
  {
   "cell_type": "code",
   "execution_count": 21,
   "metadata": {},
   "outputs": [
    {
     "data": {
      "text/plain": [
       "batch_size   NaN\n",
       "epochs       NaN\n",
       "Name: val_acc, dtype: float64"
      ]
     },
     "execution_count": 21,
     "metadata": {},
     "output_type": "execute_result"
    }
   ],
   "source": [
    "r.correlate()"
   ]
  },
  {
   "cell_type": "code",
   "execution_count": 22,
   "metadata": {},
   "outputs": [
    {
     "data": {
      "image/png": "[encoded data removed]",
      "text/plain": [
       "<Figure size 864x475.2 with 1 Axes>"
      ]
     },
     "metadata": {},
     "output_type": "display_data"
    }
   ],
   "source": [
    "r.plot_line()"
   ]
  },
  {
   "cell_type": "code",
   "execution_count": 23,
   "metadata": {},
   "outputs": [
    {
     "data": {
      "image/png": "[encoded data removed]",
      "text/plain": [
       "<Figure size 720x475.2 with 1 Axes>"
      ]
     },
     "metadata": {},
     "output_type": "display_data"
    }
   ],
   "source": [
    "r.plot_hist()"
   ]
  },
  {
   "cell_type": "code",
   "execution_count": 24,
   "metadata": {},
   "outputs": [
    {
     "data": {
      "image/png": "[encoded data removed]",
      "text/plain": [
       "<Figure size 504x504 with 2 Axes>"
      ]
     },
     "metadata": {},
     "output_type": "display_data"
    }
   ],
   "source": [
    "r.plot_corr()"
   ]
  },
  {
   "cell_type": "code",
   "execution_count": 25,
   "metadata": {},
   "outputs": [
    {
     "data": {
      "image/png": "[encoded data removed]",
      "text/plain": [
       "<Figure size 720x475.2 with 1 Axes>"
      ]
     },
     "metadata": {},
     "output_type": "display_data"
    }
   ],
   "source": [
    "r.plot_kde('val_acc')"
   ]
  },
  {
   "cell_type": "code",
   "execution_count": 28,
   "metadata": {},
   "outputs": [
    {
     "data": {
      "image/png": "[encoded data removed]",
      "text/plain": [
       "<Figure size 1226.35x288 with 3 Axes>"
      ]
     },
     "metadata": {},
     "output_type": "display_data"
    }
   ],
   "source": [
    "r.plot_bars(x='activation', y='val_acc', hue='epochs', col='dropout')"
   ]
  },
  {
   "cell_type": "markdown",
   "metadata": {},
   "source": [
    "### 4.3 Nützliche Modelle speichern"
   ]
  },
  {
   "cell_type": "markdown",
   "metadata": {},
   "source": [
    "#### Modell über Talos evaluieren"
   ]
  },
  {
   "cell_type": "code",
   "execution_count": 29,
   "metadata": {},
   "outputs": [],
   "source": [
    "from talos import Evaluate"
   ]
  },
  {
   "cell_type": "code",
   "execution_count": 30,
   "metadata": {},
   "outputs": [],
   "source": [
    "e = Evaluate(h)"
   ]
  },
  {
   "cell_type": "code",
   "execution_count": 31,
   "metadata": {},
   "outputs": [],
   "source": [
    "y_test = y_test.ravel()"
   ]
  },
  {
   "cell_type": "code",
   "execution_count": 32,
   "metadata": {},
   "outputs": [],
   "source": [
    "y_test_neu = y_test.reshape((y_test.shape[0],1))"
   ]
  },
  {
   "cell_type": "code",
   "execution_count": 33,
   "metadata": {},
   "outputs": [
    {
     "data": {
      "text/plain": [
       "[0.4067796610169491]"
      ]
     },
     "execution_count": 33,
     "metadata": {},
     "output_type": "execute_result"
    }
   ],
   "source": [
    "# Evaluiert das beste Modell aus dem Scan\n",
    "# liefert den F1-Score für 'binary'\n",
    "e.evaluate(x_test_scaled, y_test_neu, shuffle=True, folds=1, \n",
    "           mode='binary', # 'binary', 'multi_class', 'multi_label', or 'regression'\n",
    "           metric='val_acc' # A column name referring to the metric that was used in the\n",
    "            # scan_object as a performance metric. This is used for sorting\n",
    "            # the results to pick for evaluation.\n",
    "           \n",
    "          )"
   ]
  },
  {
   "cell_type": "markdown",
   "metadata": {},
   "source": [
    "#### Modell als package aus Modell (.json) und Gewichten (.h5) speichern"
   ]
  },
  {
   "cell_type": "code",
   "execution_count": 34,
   "metadata": {},
   "outputs": [],
   "source": [
    "from talos import Deploy"
   ]
  },
  {
   "cell_type": "code",
   "execution_count": 35,
   "metadata": {},
   "outputs": [
    {
     "name": "stdout",
     "output_type": "stream",
     "text": [
      "Deploy package test have been saved.\n"
     ]
    },
    {
     "data": {
      "text/plain": [
       "<talos.commands.deploy.Deploy at 0x2c0083876d8>"
      ]
     },
     "execution_count": 35,
     "metadata": {},
     "output_type": "execute_result"
    }
   ],
   "source": [
    "Deploy(h, 'test')"
   ]
  },
  {
   "cell_type": "markdown",
   "metadata": {},
   "source": [
    "Paket extrahieren!"
   ]
  },
  {
   "cell_type": "markdown",
   "metadata": {},
   "source": [
    "#### Modell aus json laden"
   ]
  },
  {
   "cell_type": "code",
   "execution_count": 36,
   "metadata": {},
   "outputs": [],
   "source": [
    "from keras.models import model_from_json"
   ]
  },
  {
   "cell_type": "code",
   "execution_count": 37,
   "metadata": {},
   "outputs": [],
   "source": [
    "json_file = open('C:/Users/astapper/Documents/KI_MeetUp/Treffen/Hyperparameter/test/test_model.json', 'r')"
   ]
  },
  {
   "cell_type": "code",
   "execution_count": 38,
   "metadata": {},
   "outputs": [],
   "source": [
    "loaded_model_json = json_file.read()\n",
    "json_file.close()"
   ]
  },
  {
   "cell_type": "code",
   "execution_count": 39,
   "metadata": {},
   "outputs": [],
   "source": [
    "loaded_model = model_from_json(loaded_model_json)"
   ]
  },
  {
   "cell_type": "code",
   "execution_count": 40,
   "metadata": {
    "scrolled": true
   },
   "outputs": [
    {
     "name": "stdout",
     "output_type": "stream",
     "text": [
      "_________________________________________________________________\n",
      "Layer (type)                 Output Shape              Param #   \n",
      "=================================================================\n",
      "dense_1 (Dense)              (None, 64)                2880      \n",
      "_________________________________________________________________\n",
      "dense_2 (Dense)              (None, 128)               8320      \n",
      "_________________________________________________________________\n",
      "dense_3 (Dense)              (None, 256)               33024     \n",
      "_________________________________________________________________\n",
      "dense_4 (Dense)              (None, 128)               32896     \n",
      "_________________________________________________________________\n",
      "dense_5 (Dense)              (None, 64)                8256      \n",
      "_________________________________________________________________\n",
      "dense_6 (Dense)              (None, 32)                2080      \n",
      "_________________________________________________________________\n",
      "dense_7 (Dense)              (None, 16)                528       \n",
      "_________________________________________________________________\n",
      "dense_8 (Dense)              (None, 1)                 17        \n",
      "=================================================================\n",
      "Total params: 88,001\n",
      "Trainable params: 88,001\n",
      "Non-trainable params: 0\n",
      "_________________________________________________________________\n"
     ]
    }
   ],
   "source": [
    "loaded_model.summary()"
   ]
  },
  {
   "cell_type": "markdown",
   "metadata": {},
   "source": [
    "#### Gewichte laden"
   ]
  },
  {
   "cell_type": "code",
   "execution_count": 47,
   "metadata": {},
   "outputs": [],
   "source": [
    "loaded_model.load_weights('C:/Users/astapper/Documents/KI_MeetUp/Treffen/Hyperparameter/test/test_model.h5')"
   ]
  },
  {
   "cell_type": "markdown",
   "metadata": {},
   "source": [
    "### 4.4 Modelle manuell evaluieren"
   ]
  },
  {
   "cell_type": "markdown",
   "metadata": {},
   "source": [
    "#### Testdaten vorhersagen"
   ]
  },
  {
   "cell_type": "code",
   "execution_count": 48,
   "metadata": {},
   "outputs": [],
   "source": [
    "# Testdaten vorhersagen\n",
    "y_test_vorhersage = np.round(loaded_model.predict(x_test_scaled).reshape(x_test_scaled.shape[0],))"
   ]
  },
  {
   "cell_type": "code",
   "execution_count": 49,
   "metadata": {},
   "outputs": [
    {
     "data": {
      "text/plain": [
       "array([0., 1., 0., ..., 0., 0., 1.], dtype=float32)"
      ]
     },
     "execution_count": 49,
     "metadata": {},
     "output_type": "execute_result"
    }
   ],
   "source": [
    "y_test_vorhersage"
   ]
  },
  {
   "cell_type": "markdown",
   "metadata": {},
   "source": [
    "#### Confusion-Matrix"
   ]
  },
  {
   "cell_type": "code",
   "execution_count": 50,
   "metadata": {},
   "outputs": [],
   "source": [
    "from sklearn.metrics import confusion_matrix"
   ]
  },
  {
   "cell_type": "code",
   "execution_count": 51,
   "metadata": {},
   "outputs": [],
   "source": [
    "y_true = y_test\n",
    "y_pred = y_test_vorhersage\n",
    "confmat = confusion_matrix(y_true, y_pred)"
   ]
  },
  {
   "cell_type": "code",
   "execution_count": 52,
   "metadata": {},
   "outputs": [
    {
     "data": {
      "image/png": "[encoded data removed]",
      "text/plain": [
       "<Figure size 180x180 with 1 Axes>"
      ]
     },
     "metadata": {},
     "output_type": "display_data"
    }
   ],
   "source": [
    "import matplotlib.pyplot as plt\n",
    "\n",
    "fig, ax = plt.subplots(figsize=(2.5, 2.5))\n",
    "ax.matshow(confmat, cmap=plt.cm.Blues, alpha=0.3)\n",
    "for i in range(confmat.shape[0]):\n",
    "    for j in range(confmat.shape[1]):\n",
    "        if str(i)+str(j) =='00': ax.text(x=j, y=i, s='tn: \\n'+str(round((confmat[i,j]/len(y_test)*100),2))+'%\\n'+str(confmat[i,j]), va='center', ha='center')\n",
    "        elif str(i)+str(j) == '01': ax.text(x=j, y=i, s='fp: \\n'+str(round((confmat[i,j]/len(y_test)*100),2))+'%\\n'+str(confmat[i,j]), va='center', ha='center')\n",
    "        elif str(i)+str(j) == '10': ax.text(x=j, y=i, s='fn: \\n'+str(round((confmat[i,j]/len(y_test)*100),2))+'%\\n'+str(confmat[i,j]), va='center', ha='center')\n",
    "        else: ax.text(x=j, y=i, s='tp: \\n'+str(round((confmat[i,j]/len(y_test)*100),2))+'%\\n'+str(confmat[i,j]), va='center', ha='center')\n",
    "plt.xlabel('Vorhergesagte Klasse')\n",
    "plt.ylabel('Tatsächliche Klasse')\n",
    "plt.show()"
   ]
  },
  {
   "cell_type": "markdown",
   "metadata": {},
   "source": [
    "####  Precision, Recall & F1-Score"
   ]
  },
  {
   "cell_type": "code",
   "execution_count": 53,
   "metadata": {},
   "outputs": [
    {
     "name": "stdout",
     "output_type": "stream",
     "text": [
      "Genauigkeit / Precision: 0.270\n",
      "Trefferquote / Recall: 0.827586\n",
      "F1: 0.407\n"
     ]
    }
   ],
   "source": [
    "from sklearn.metrics import precision_score\n",
    "from sklearn.metrics import recall_score, f1_score\n",
    "\n",
    "print('Genauigkeit / Precision: %.3f' % precision_score(y_true=y_test, y_pred=y_test_vorhersage))\n",
    "\n",
    "print('Trefferquote / Recall: %3f' %recall_score(y_true=y_test, y_pred=y_test_vorhersage))\n",
    "\n",
    "print('F1: %.3f' % f1_score(y_true=y_test, y_pred=y_test_vorhersage))"
   ]
  },
  {
   "cell_type": "code",
   "execution_count": null,
   "metadata": {},
   "outputs": [],
   "source": []
  },
  {
   "cell_type": "markdown",
   "metadata": {},
   "source": [
    "#### ROC- Kurve"
   ]
  },
  {
   "cell_type": "code",
   "execution_count": 54,
   "metadata": {},
   "outputs": [],
   "source": [
    "from sklearn.metrics import roc_curve, auc"
   ]
  },
  {
   "cell_type": "code",
   "execution_count": 55,
   "metadata": {},
   "outputs": [
    {
     "data": {
      "text/plain": [
       "array([[0.00274241],\n",
       "       [0.6535941 ],\n",
       "       [0.06327567],\n",
       "       ...,\n",
       "       [0.00423869],\n",
       "       [0.01606089],\n",
       "       [0.82933587]], dtype=float32)"
      ]
     },
     "execution_count": 55,
     "metadata": {},
     "output_type": "execute_result"
    }
   ],
   "source": [
    "y_pred_proba = loaded_model.predict_proba(x_test_scaled)\n",
    "y_pred_proba"
   ]
  },
  {
   "cell_type": "code",
   "execution_count": 56,
   "metadata": {},
   "outputs": [],
   "source": [
    "fpr_proba, tpr_proba, thresholds_proba = roc_curve(y_test, y_pred_proba)\n",
    "auc_proba = auc(fpr_proba, tpr_proba)"
   ]
  },
  {
   "cell_type": "code",
   "execution_count": 57,
   "metadata": {},
   "outputs": [
    {
     "data": {
      "image/png": "[encoded data removed]",
      "text/plain": [
       "<Figure size 432x288 with 1 Axes>"
      ]
     },
     "metadata": {},
     "output_type": "display_data"
    }
   ],
   "source": [
    "plt.figure(1)\n",
    "plt.plot([0, 1], [0, 1], 'k--')\n",
    "plt.plot(fpr_proba, tpr_proba, label='Keras (area = {:.3f})'.format(auc_proba))\n",
    "#plt.plot(fpr_rf, tpr_rf, label='RF (area = {:.3f})'.format(auc_rf))\n",
    "plt.xlabel('False positive rate')\n",
    "plt.ylabel('True positive rate')\n",
    "plt.title('ROC curve')\n",
    "plt.legend(loc='best')\n",
    "plt.show()"
   ]
  },
  {
   "cell_type": "code",
   "execution_count": null,
   "metadata": {},
   "outputs": [],
   "source": []
  },
  {
   "cell_type": "code",
   "execution_count": null,
   "metadata": {},
   "outputs": [],
   "source": []
  }
 ],
 "metadata": {
  "kernelspec": {
   "display_name": "Python 3",
   "language": "python",
   "name": "python3"
  },
  "language_info": {
   "codemirror_mode": {
    "name": "ipython",
    "version": 3
   },
   "file_extension": ".py",
   "mimetype": "text/x-python",
   "name": "python",
   "nbconvert_exporter": "python",
   "pygments_lexer": "ipython3",
   "version": "3.6.4"
  }
 },
 "nbformat": 4,
 "nbformat_minor": 2
}
